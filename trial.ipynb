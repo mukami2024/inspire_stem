{
  "nbformat": 4,
  "nbformat_minor": 0,
  "metadata": {
    "colab": {
      "provenance": [],
      "authorship_tag": "ABX9TyPyukOdC7saMccV/EN53+Kp",
      "include_colab_link": true
    },
    "kernelspec": {
      "name": "python3",
      "display_name": "Python 3"
    },
    "language_info": {
      "name": "python"
    }
  },
  "cells": [
    {
      "cell_type": "markdown",
      "metadata": {
        "id": "view-in-github",
        "colab_type": "text"
      },
      "source": [
        "<a href=\"https://colab.research.google.com/github/mukami2024/inspire_stem/blob/main/trial.ipynb\" target=\"_parent\"><img src=\"https://colab.research.google.com/assets/colab-badge.svg\" alt=\"Open In Colab\"/></a>"
      ]
    },
    {
      "cell_type": "markdown",
      "source": [
        "installing sql"
      ],
      "metadata": {
        "id": "a6dX2fCC4YxE"
      }
    },
    {
      "cell_type": "code",
      "execution_count": null,
      "metadata": {
        "colab": {
          "base_uri": "https://localhost:8080/"
        },
        "id": "Z-_YqG2D3dbK",
        "outputId": "02276d78-58ac-450b-d043-860e65cfede8"
      },
      "outputs": [
        {
          "output_type": "stream",
          "name": "stdout",
          "text": [
            "Collecting pymysql\n",
            "  Downloading PyMySQL-1.1.0-py3-none-any.whl (44 kB)\n",
            "\u001b[2K     \u001b[90m━━━━━━━━━━━━━━━━━━━━━━━━━━━━━━━━━━━━━━━━\u001b[0m \u001b[32m44.8/44.8 kB\u001b[0m \u001b[31m1.4 MB/s\u001b[0m eta \u001b[36m0:00:00\u001b[0m\n",
            "\u001b[?25hInstalling collected packages: pymysql\n",
            "Successfully installed pymysql-1.1.0\n"
          ]
        }
      ],
      "source": [
        "!pip install pymysql"
      ]
    },
    {
      "cell_type": "code",
      "source": [
        "%load_ext sql"
      ],
      "metadata": {
        "id": "5aYc-stP3sZ5"
      },
      "execution_count": null,
      "outputs": []
    },
    {
      "cell_type": "markdown",
      "source": [],
      "metadata": {
        "id": "46cuNvK_4WUe"
      }
    },
    {
      "cell_type": "code",
      "source": [
        "%%sql sqlite:///chinook.db\n"
      ],
      "metadata": {
        "id": "m1eLBIyo9HeR"
      },
      "execution_count": null,
      "outputs": []
    },
    {
      "cell_type": "code",
      "source": [
        "%%sql CREATE TABLE Worker(\n",
        "    name VARCHAR(25),\n",
        "    salary INT,\n",
        "    weights DECIMAL(5,2)\n",
        "\n",
        "\n",
        ");"
      ],
      "metadata": {
        "colab": {
          "base_uri": "https://localhost:8080/"
        },
        "id": "ir5Lfuq67trk",
        "outputId": "bf7544eb-b76d-4443-e7c7-42ba0bd0b40d"
      },
      "execution_count": null,
      "outputs": [
        {
          "output_type": "stream",
          "name": "stdout",
          "text": [
            " * sqlite:///chinook.db\n",
            "Done.\n"
          ]
        },
        {
          "output_type": "execute_result",
          "data": {
            "text/plain": [
              "[]"
            ]
          },
          "metadata": {},
          "execution_count": 11
        }
      ]
    },
    {
      "cell_type": "code",
      "source": [
        "%%sql INSERT INTO Worker VALUES\n",
        "( \"Sammy\", \"240000\" , \"60.2\")\n",
        "( \"Kelsy\" , \"340000\" , \"58.9\");"
      ],
      "metadata": {
        "colab": {
          "base_uri": "https://localhost:8080/"
        },
        "id": "yM4ZvSs_J-Jj",
        "outputId": "f12a1316-c07b-4397-935a-a1dfaea41bbb"
      },
      "execution_count": null,
      "outputs": [
        {
          "output_type": "stream",
          "name": "stdout",
          "text": [
            " * sqlite:///chinook.db\n",
            "(sqlite3.OperationalError) near \"(\": syntax error\n",
            "[SQL: INSERT INTO Worker VALUES\n",
            "( \"Sammy\", \"240000\" , \"60.2\") \n",
            "( \"Kelsy\" , \"340000\" , \"58.9\");]\n",
            "(Background on this error at: https://sqlalche.me/e/20/e3q8)\n"
          ]
        }
      ]
    },
    {
      "cell_type": "code",
      "source": [
        "%%sql INSERT INTO Worker VALUES\n",
        "( \"Joshua\", \"230000\" , \"54.3\")"
      ],
      "metadata": {
        "colab": {
          "base_uri": "https://localhost:8080/"
        },
        "id": "-tP9P07XNkWb",
        "outputId": "96193fa8-57cd-4553-910e-8435bc28cc16"
      },
      "execution_count": null,
      "outputs": [
        {
          "output_type": "stream",
          "name": "stdout",
          "text": [
            " * sqlite:///chinook.db\n",
            "1 rows affected.\n"
          ]
        },
        {
          "output_type": "execute_result",
          "data": {
            "text/plain": [
              "[]"
            ]
          },
          "metadata": {},
          "execution_count": 19
        }
      ]
    },
    {
      "cell_type": "code",
      "source": [
        "%%sql SELECT * FROM Worker;"
      ],
      "metadata": {
        "colab": {
          "base_uri": "https://localhost:8080/",
          "height": 139
        },
        "id": "iXVr8TqiMqjH",
        "outputId": "f7dd0664-2539-4bbe-9c96-1262ad10d648"
      },
      "execution_count": null,
      "outputs": [
        {
          "output_type": "stream",
          "name": "stdout",
          "text": [
            " * sqlite:///chinook.db\n",
            "Done.\n"
          ]
        },
        {
          "output_type": "execute_result",
          "data": {
            "text/plain": [
              "[('Sammy', 240000, 60.2), ('Sammy', 240000, 60.2), ('Joshua', 230000, 54.3)]"
            ],
            "text/html": [
              "<table>\n",
              "    <thead>\n",
              "        <tr>\n",
              "            <th>name</th>\n",
              "            <th>salary</th>\n",
              "            <th>weights</th>\n",
              "        </tr>\n",
              "    </thead>\n",
              "    <tbody>\n",
              "        <tr>\n",
              "            <td>Sammy</td>\n",
              "            <td>240000</td>\n",
              "            <td>60.2</td>\n",
              "        </tr>\n",
              "        <tr>\n",
              "            <td>Sammy</td>\n",
              "            <td>240000</td>\n",
              "            <td>60.2</td>\n",
              "        </tr>\n",
              "        <tr>\n",
              "            <td>Joshua</td>\n",
              "            <td>230000</td>\n",
              "            <td>54.3</td>\n",
              "        </tr>\n",
              "    </tbody>\n",
              "</table>"
            ]
          },
          "metadata": {},
          "execution_count": 20
        }
      ]
    }
  ]
}